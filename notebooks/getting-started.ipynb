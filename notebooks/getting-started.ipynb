{
 "cells": [
  {
   "cell_type": "code",
   "execution_count": null,
   "metadata": {},
   "outputs": [],
   "source": [
    "# Copyright 2022 Google LLC\n",
    "#\n",
    "# Licensed under the Apache License, Version 2.0 (the \"License\");\n",
    "# you may not use this file except in compliance with the License.\n",
    "# You may obtain a copy of the License at\n",
    "#\n",
    "#      http://www.apache.org/licenses/LICENSE-2.0\n",
    "#\n",
    "# Unless required by applicable law or agreed to in writing, software\n",
    "# distributed under the License is distributed on an \"AS IS\" BASIS,\n",
    "# WITHOUT WARRANTIES OR CONDITIONS OF ANY KIND, either express or implied.\n",
    "# See the License for the specific language governing permissions and\n",
    "# limitations under the License."
   ]
  },
  {
   "cell_type": "markdown",
   "metadata": {},
   "source": [
    "# Template to run a T5X job on Vertex AI\n",
    "\n",
    "This notebook serves as a template for configuring and running a T5X job on\n",
    "Google Vertex AI. The job can be a fine-tuning job or a training job from\n",
    "scratch, or it can be an evaluation job or an inference job. The template lets\n",
    "you clone the notebook for a specific job, task, dataset, or configuration and\n",
    "get a quick start on running a T5X job on Vertex AI.\n",
    "\n",
    "## Objective\n",
    "\n",
    "This template notebook performs three tasks. First, it runs through a\n",
    "fine-tuning job from a pre-trained model for an English to German translation\n",
    "task using the [T5X framework](https://github.com/google-research/t5x) on\n",
    "[Vertex AI](https://cloud.google.com/vertex-ai) with the\n",
    "[`wmt_t2t_translate`](https://www.tensorflow.org/datasets/catalog/wmt_t2t_translate)\n",
    "dataset. It then performs the additional tasks of evaluation and of batch\n",
    "inference on the fine-tuned model. \n",
    "\n",
    "The notebook is organized as following:\n",
    "\n",
    "-  [Preparation: Imports and initialization](#preparation):\n",
    "    Initialize and configure an experiment for any of the tasks to run.\n",
    "-  [Task 1: Fine-tune a pre-trained model on Vertex AI](#task1):\n",
    "    Configure and fine-tune a pretrained T5 base model for translation task\n",
    "    with T5X on Vertex AI.\n",
    "-  [Task 2: Run model evaluation on Vertex AI](#task2):\n",
    "    Configure and evaluate a trained model with T5X on Vertex AI.\n",
    "-  [Task 3: Run batch inference on Vertex AI](#task3):\n",
    "    Configure and run batch inference using the trained model with T5X on Vertex AI.\n",
    "\n",
    "## Before you begin\n",
    "\n",
    "Before you run this notebook, review the prerequisites:\n",
    "\n",
    "1. For background about how to run and monitor T5X jobs with Vertex AI,\n",
    "    including environment setup and data preparation tasks, see the [README\n",
    "    file](README.md) for this repository.\n",
    "1. Ensure that you have set up the development environment and installed the\n",
    "    required libraries as described in the environment setup of the [README\n",
    "    file](README.md). "
   ]
  },
  {
   "cell_type": "markdown",
   "metadata": {
    "toc-hr-collapsed": true
   },
   "source": [
    "## <a name=\"preparation\"></a>Preparation: Imports and initialization\n",
    "\n",
    "In this section, you import required libraries, configure environment settings,\n",
    "and initialize an experiment in Vertex AI."
   ]
  },
  {
   "cell_type": "markdown",
   "metadata": {},
   "source": [
    "Call the\n",
    "[`autoreload`](https://ipython.org/ipython-doc/3/config/extensions/autoreload.html)\n",
    "extension to reload modules automatically before executing code."
   ]
  },
  {
   "cell_type": "code",
   "execution_count": null,
   "metadata": {},
   "outputs": [],
   "source": [
    "# Reloads modules automatically before executing any code/script\n",
    "%load_ext autoreload\n",
    "%autoreload 2"
   ]
  },
  {
   "cell_type": "markdown",
   "metadata": {},
   "source": [
    "### Import libraries\n",
    "\n",
    "Import the required libraries."
   ]
  },
  {
   "cell_type": "code",
   "execution_count": null,
   "metadata": {},
   "outputs": [],
   "source": [
    "import os\n",
    "import time\n",
    "from datetime import datetime\n",
    "import pandas as pd\n",
    "\n",
    "# Import the Vertex AI SDK for Python\n",
    "from google.cloud import aiplatform as vertex_ai"
   ]
  },
  {
   "cell_type": "markdown",
   "metadata": {},
   "source": [
    "Import [`utils.py`](utils.py), which is a\n",
    "custom script that has utility functions to streamline configuration and\n",
    "submission of a Vertex AI custom job and to track the generated artifacts and\n",
    "metrics from the custom job."
   ]
  },
  {
   "cell_type": "code",
   "execution_count": null,
   "metadata": {},
   "outputs": [],
   "source": [
    "import utils"
   ]
  },
  {
   "cell_type": "markdown",
   "metadata": {},
   "source": [
    "### Configure environment settings\n",
    "\n",
    "Based on the [environment setup](README.md) you did previously, configure the\n",
    "following environment settings:\n",
    "\n",
    "-  `PROJECT_ID`: Configure the Google Cloud project ID.\n",
    "-  `REGION`: Configure the\n",
    "    [region](https://cloud.google.com/vertex-ai/docs/general/locations) to use\n",
    "    for Vertex AI operations throughout this notebook.\n",
    "-  `BUCKET`: Configure the Google Cloud Storage bucket name that you created\n",
    "    during environment setup. Vertex AI uses this bucket for operations such as\n",
    "    staging the code and saving generated artifacts.\n",
    "-  `TENSORBOARD_NAME`: Configure the managed TensorBoard instance name that\n",
    "    you created during the environment setup."
   ]
  },
  {
   "cell_type": "code",
   "execution_count": null,
   "metadata": {},
   "outputs": [],
   "source": [
    "# Project definitions\n",
    "PROJECT_ID = '<YOUR PROJECT ID>' # Change to your project id.\n",
    "REGION = '<YOUR REGION>'  # Change to your region.\n",
    "\n",
    "# Bucket definitions\n",
    "BUCKET = '<YOUR BUCKET NAME>' # Change to your bucket."
   ]
  },
  {
   "cell_type": "code",
   "execution_count": null,
   "metadata": {},
   "outputs": [],
   "source": [
    "# Tensorboard definitions\n",
    "TENSORBOARD_NAME = '<YOUR TENSORBOARD NAME>' # Change to your Tensorboard instance name"
   ]
  },
  {
   "cell_type": "code",
   "execution_count": null,
   "metadata": {},
   "outputs": [],
   "source": [
    "# Get Vertex AI TensorBoard ID based on name\n",
    "TENSORBOARD_ID = ! gcloud ai tensorboards list --filter=\"displayName={TENSORBOARD_NAME}\" --format=\"value(name)\" --region={REGION} 2>/dev/null \n",
    "TENSORBOARD_ID = TENSORBOARD_ID[0]\n",
    "\n",
    "print(f\"TENSORBOARD_ID = {TENSORBOARD_ID}\")"
   ]
  },
  {
   "cell_type": "markdown",
   "metadata": {},
   "source": [
    "### Configure a custom container image\n",
    "\n",
    "The notebook uses\n",
    "[Vertex AI custom training jobs](https://cloud.google.com/vertex-ai/docs/training/create-custom-job)\n",
    "with a\n",
    "[custom training container](https://cloud.google.com/vertex-ai/docs/training/containers-overview)\n",
    "to run T5X training, evaluation, and inference tasks. The\n",
    "[base custom training container image](Dockerfile)\n",
    "that you created as part of the environment setup\n",
    "packages the T5X framework and its dependencies and sets the default entrypoint\n",
    "to the T5X launch script.\n",
    "\n",
    "Most samples in the repository use the base custom training container image\n",
    "`t5x-base` directly. When you are deriving an image from the base container\n",
    "image, configure your custom container image name (`IMAGE_NAME`) as shown in the\n",
    "following code:"
   ]
  },
  {
   "cell_type": "code",
   "execution_count": null,
   "metadata": {},
   "outputs": [],
   "source": [
    "# Configure the custom container image name\n",
    "IMAGE_NAME = 't5x-base' # Change to your image name\n",
    "IMAGE_URI = f'gcr.io/{PROJECT_ID}/{IMAGE_NAME}'"
   ]
  },
  {
   "cell_type": "markdown",
   "metadata": {},
   "source": [
    "Verify that the image exists in Container Registry:"
   ]
  },
  {
   "cell_type": "code",
   "execution_count": null,
   "metadata": {},
   "outputs": [],
   "source": [
    "! gcloud container images describe $IMAGE_URI"
   ]
  },
  {
   "cell_type": "markdown",
   "metadata": {},
   "source": [
    "If the results show that the image exists, then the step is completed correctly.\n",
    "If the results show that image does not exist, review the preceding steps and\n",
    "try them again. Don't proceed in the notebook until this verification step shows\n",
    "success."
   ]
  },
  {
   "cell_type": "markdown",
   "metadata": {},
   "source": [
    "### Configure experiment settings\n",
    "\n",
    "The notebook uses Vertex AI Experiments to track the run, including\n",
    "configuration, dataset location, artifacts, and metrics for reproducibility.\n",
    "Configure the experiment name, and set the workspace and run settings."
   ]
  },
  {
   "cell_type": "code",
   "execution_count": null,
   "metadata": {},
   "outputs": [],
   "source": [
    "EXPERIMENT_NAME = '<YOUR EXPERIMENT NAME>' # Change to your experiment name\n",
    "\n",
    "EXPERIMENT_WORKSPACE = f'gs://{BUCKET}/experiments/{EXPERIMENT_NAME}'\n",
    "EXPERIMENT_RUNS = f'{EXPERIMENT_WORKSPACE}/runs'"
   ]
  },
  {
   "cell_type": "markdown",
   "metadata": {},
   "source": [
    "### Initialize the Vertex AI SDK for Python\n",
    "\n",
    "Initialize the Vertex AI SDK for Python for your project, bucket, and\n",
    "experiment."
   ]
  },
  {
   "cell_type": "code",
   "execution_count": null,
   "metadata": {},
   "outputs": [],
   "source": [
    "vertex_ai.init(\n",
    "    project=PROJECT_ID,\n",
    "    location=REGION,\n",
    "    staging_bucket=EXPERIMENT_WORKSPACE,\n",
    "    experiment=EXPERIMENT_NAME\n",
    ")"
   ]
  },
  {
   "cell_type": "markdown",
   "metadata": {},
   "source": [
    "### Configure the dataset location\n",
    "\n",
    "Configure the location where training, evaluation, and test datasets are staged,\n",
    "as prepared during the environment setup."
   ]
  },
  {
   "cell_type": "code",
   "execution_count": null,
   "metadata": {},
   "outputs": [],
   "source": [
    "TFDS_DATA_DIR = f'gs://{BUCKET}/datasets'"
   ]
  },
  {
   "cell_type": "markdown",
   "metadata": {},
   "source": [
    "---"
   ]
  },
  {
   "cell_type": "markdown",
   "metadata": {
    "tags": [],
    "toc-hr-collapsed": true
   },
   "source": [
    "## <a name=\"task1\"></a>Task 1: Fine-tune a pre-trained model on Vertex AI\n",
    "\n",
    "This section details how to run a T5X job on Vertex AI, starting with\n",
    "fine-tuning a pretrained model. You perform the following steps:\n",
    "\n",
    "-  Define parameters required for a T5X job by using Gin files and by\n",
    "    overwriting parameters.\n",
    "-  Configure experiment settings to track with\n",
    "    [Vertex AI Experiments](https://cloud.google.com/vertex-ai/docs/experiments/intro-vertex-ai-experiments).\n",
    "-  Create and submit\n",
    "    [custom job](https://cloud.google.com/vertex-ai/docs/training/create-custom-job)s\n",
    "    to run on Vertex AI using convenient utility functions.\n",
    "-  Integrate with\n",
    "    [Vertex AI TensorBoard](https://cloud.google.com/vertex-ai/docs/experiments/tensorboard-overview).\n",
    "-  Monitor the progress of run through Cloud Logging and Vertex AI TensorBoard.\n",
    "-  Track experiments metadata, artifacts and metrics from Vertex AI Experiments."
   ]
  },
  {
   "cell_type": "markdown",
   "metadata": {},
   "source": [
    "### Configure the T5X job with the Gin framework\n",
    "\n",
    "T5X uses the [Gin framework](https://github.com/google/gin-config) to run\n",
    "training, evaluation, and inference jobs. To understand how T5X employs Gin, see\n",
    "the\n",
    "[T5X Gin primer](https://github.com/google-research/t5x/blob/main/docs/usage/gin.md).\n",
    "\n",
    "Typically, you create a Gin file to define the parameters for your task. This\n",
    "Gin file can refer to other Gin files such as a model Gin file or a base run Gin\n",
    "file. \n",
    "\n",
    "You can also create multiple Gin files for a task and configure a T5X job. When\n",
    "multiple Gin files are configured, they are imported in the order that you\n",
    "specify and they overwrite any earlier parameters. You can find sample Gin files\n",
    "for some predefined and custom tasks in the [`config` directory](config/)\n",
    "of this repo.\n",
    "\n",
    "In this notebook, you configure Gin files for the job through the `GIN_FILES`\n",
    "parameter and pass them as an argument to the custom job spec.\n",
    "\n",
    "Gin makes it easy to change (overwrite) specific parameters in the Gin files by\n",
    "passing them as command-line arguments. You can overwrite default parameters by\n",
    "adding them to the `GIN_OVERWRITES` variable as shown in the example that\n",
    "follows.\n",
    "\n",
    "Run the following code, which configures the base Gin file for the fine-tuning\n",
    "job using the `GIN_FILES` parameter and which specifies overwrites in\n",
    "`GIN_OVERWRITES`. (If you copy the notebook and use it for a different task or\n",
    "for a different dataset, you update this code with references to your\n",
    "job-specific Gin files and overwrites.)"
   ]
  },
  {
   "cell_type": "markdown",
   "metadata": {},
   "source": [
    "The example below configures the base Gin file for the fine-tuning job\n",
    "via `GIN_FILES` parameter and specifies any overwrites in `GIN_OVERWRITES`."
   ]
  },
  {
   "cell_type": "code",
   "execution_count": null,
   "metadata": {},
   "outputs": [],
   "source": [
    "# Specify Gin file path(s) for the task\n",
    "GIN_FILES = ['../configs/finetune_t511_base_wmt.gin']  # Change to your Gin file path"
   ]
  },
  {
   "cell_type": "markdown",
   "metadata": {},
   "source": [
    "The base Gin configuration for fine-tuning task runs for 3000 steps (configured as `TRAIN_STEPS`)  with evaluation period (`EVAL_PERIOD`) set to 500 steps between each evaluation. Please note that `TRAIN_STEPS` is set to a lower number of steps for demonstration purposes. For better results, you should increase the number of training steps.\n",
    "\n",
    "```\n",
    "TRAIN_STEPS = 1_003_000  # 1000000 pre-trained steps + 3000 fine-tuning steps.\n",
    "EVAL_PERIOD = 500\n",
    "```"
   ]
  },
  {
   "cell_type": "code",
   "execution_count": 1,
   "metadata": {},
   "outputs": [
    {
     "name": "stdout",
     "output_type": "stream",
     "text": [
      "from __gin__ import dynamic_registration\n",
      "\n",
      "import __main__ as train_script\n",
      "from t5.data import mixtures\n",
      "from t5x import models\n",
      "from t5x import partitioning\n",
      "from t5x import utils\n",
      "\n",
      "include \"t5x/examples/t5/t5_1_1/base.gin\"\n",
      "include \"t5x/configs/runs/finetune.gin\"\n",
      "\n",
      "MIXTURE_OR_TASK_NAME = \"wmt_t2t_ende_v003\"\n",
      "TASK_FEATURE_LENGTHS = {\"inputs\": 256, \"targets\": 256}\n",
      "TRAIN_STEPS = 1_003_000  # 1000000 pre-trained steps + 3000 fine-tuning steps.\n",
      "DROPOUT_RATE = 0.0\n",
      "INITIAL_CHECKPOINT_PATH = \"gs://t5-data/pretrained_models/t5x/t5_1_1_base/checkpoint_1000000\"\n",
      "LOSS_NORMALIZING_FACTOR = 233472\n",
      "EVAL_PERIOD = 500\n",
      "\n",
      "BATCH_SIZE = 128\n"
     ]
    }
   ],
   "source": [
    "! cat ../configs/finetune_t511_base_wmt.gin"
   ]
  },
  {
   "cell_type": "code",
   "execution_count": null,
   "metadata": {},
   "outputs": [],
   "source": [
    "# Specify parameters to be overwritten in Gin files\n",
    "GIN_OVERWRITES = [\n",
    "        'USE_CACHED_TASKS=False'\n",
    "    ]"
   ]
  },
  {
   "cell_type": "markdown",
   "metadata": {},
   "source": [
    "For example, when you run an inference task using the same base Gin file, you\n",
    "specify the other required parameters as `GIN_OVERWRITES` as shown in the\n",
    "snippet. You do the same thing for an evaluation task.\n",
    "\n",
    "``` python\n",
    "GIN_OVERWRITES = [\n",
    "        f'CHECKPOINT_PATH'=\"{CHECKPOINT_PATH}\"',\n",
    "        f'INFER_OUTPUT_DIR'=\"{INFER_OUTPUT_DIR}\"',\n",
    "        'USE_CACHED_TASKS=False'\n",
    "    ]\n",
    "```"
   ]
  },
  {
   "cell_type": "markdown",
   "metadata": {},
   "source": [
    "### Configure the Vertex AI custom job\n",
    "\n",
    "Configure the custom job run ID, name, and base output directory for the run.\n",
    "The `RUN_NAME` value can be arbitrary. We recommend setting it to a specific\n",
    "task or topology so that you can identify the run when you're exploring the\n",
    "experiment. For example, use `t5-finetune-v2-8`, where `t5` is the model,\n",
    "`finetune` is the task, and `v2-8` is the TPU topology."
   ]
  },
  {
   "cell_type": "code",
   "execution_count": null,
   "metadata": {},
   "outputs": [],
   "source": [
    "RUN_NAME = f'<YOUR RUN NAME>' # Change to your run name for the custom job\n",
    "RUN_ID = f'{EXPERIMENT_NAME}-{RUN_NAME}-{datetime.now().strftime(\"%Y%m%d%H%M\")}'\n",
    "RUN_DIR = f'{EXPERIMENT_RUNS}/{RUN_ID}'"
   ]
  },
  {
   "cell_type": "markdown",
   "metadata": {},
   "source": [
    "The T5X launch script allows to specify the function to run: `train`, `eval`,\n",
    "and `infer`. Depending on the job, you configure the `RUN_MODE` setting. For the\n",
    "fine-tuning example, you set `RUN_MODE` to `train`. The Gin file and the\n",
    "overwrites that you configured earlier parameterize the invoked function."
   ]
  },
  {
   "cell_type": "code",
   "execution_count": null,
   "metadata": {},
   "outputs": [],
   "source": [
    "RUN_MODE = 'train'"
   ]
  },
  {
   "cell_type": "markdown",
   "metadata": {},
   "source": [
    "To help with troubleshooting, display the values of local variables."
   ]
  },
  {
   "cell_type": "code",
   "execution_count": null,
   "metadata": {},
   "outputs": [],
   "source": [
    "for key in [\n",
    "    \"PROJECT_ID\", \"REGION\", \"BUCKET\", \"TENSORBOARD_NAME\", \"TENSORBOARD_ID\", \n",
    "    \"IMAGE_NAME\", \"IMAGE_URI\", \n",
    "    \"EXPERIMENT_NAME\", \"EXPERIMENT_WORKSPACE\", \"EXPERIMENT_RUNS\", \n",
    "    \"TFDS_DATA_DIR\", \"GIN_FILES\", \"GIN_OVERWRITES\", \n",
    "    \"RUN_NAME\", \"RUN_ID\", \"RUN_DIR\", \"RUN_MODE\"\n",
    "]:\n",
    "    print(f\"{key}={eval(key)}\")"
   ]
  },
  {
   "cell_type": "markdown",
   "metadata": {},
   "source": [
    "### Create the Vertex AI custom job\n",
    "\n",
    "The utility function\n",
    "[`utils.create_t5x_custom_job`](https://github.com/GoogleCloudPlatform/t5x-on-vertex-ai/blob/master/notebooks/utils.py#L37)\n",
    "creates a Vertex AI custom job spec to run the T5X job (training, evaluation,\n",
    "and inference) and to return the job spec. The function stages the required Gin\n",
    "configuration files in the Cloud Storage bucket before creating the custom job\n",
    "spec.\n",
    "\n",
    "The function requires you to specify the resource spec to run the script, a\n",
    "custom container image, and other information such as Gin configuration file\n",
    "paths. For parameter descriptions and usage, see the\n",
    "[function's doc string](https://github.com/GoogleCloudPlatform/t5x-on-vertex-ai/blob/master/notebooks/utils.py#L37).\n",
    "\n",
    "For TPUs, define the worker pool specification (`ACCELERATOR_TYPE` and\n",
    "`ACCELERATOR_COUNT`) based on TPU availability in the region. See\n",
    "[Vertex AI locations](https://cloud.google.com/vertex-ai/docs/general/locations#accelerators)\n",
    "for details."
   ]
  },
  {
   "cell_type": "code",
   "execution_count": null,
   "metadata": {},
   "outputs": [],
   "source": [
    "# Define worker pool resource specification\n",
    "# Machine to run the custom job on. For TPUs, use `cloud-tpu`.\n",
    "MACHINE_TYPE = 'cloud-tpu'\n",
    "# Accelerator type to attach to the machine. For TPUs, use `TPU_V2`, `TPU_V3`.\n",
    "ACCELERATOR_TYPE = 'TPU_V2'\n",
    "# Number of accelerators to attach to the machine.\n",
    "# For TPUs, specify the number of cores to be provisioned.\n",
    "ACCELERATOR_COUNT = 8"
   ]
  },
  {
   "cell_type": "markdown",
   "metadata": {},
   "source": [
    "Create the custom job spec."
   ]
  },
  {
   "cell_type": "code",
   "execution_count": null,
   "metadata": {},
   "outputs": [],
   "source": [
    "job = utils.create_t5x_custom_job(\n",
    "    display_name=RUN_ID,\n",
    "    machine_type=MACHINE_TYPE,\n",
    "    accelerator_type=ACCELERATOR_TYPE,\n",
    "    accelerator_count=ACCELERATOR_COUNT,\n",
    "    image_uri=IMAGE_URI,\n",
    "    run_mode=RUN_MODE,\n",
    "    gin_files=GIN_FILES,\n",
    "    model_dir=RUN_DIR,\n",
    "    tfds_data_dir=TFDS_DATA_DIR,\n",
    "    gin_overwrites=GIN_OVERWRITES\n",
    ")"
   ]
  },
  {
   "cell_type": "markdown",
   "metadata": {},
   "source": [
    "The function returns the custom job spec that you can submit to Vertex AI to run\n",
    "the script, as shown in the next section."
   ]
  },
  {
   "cell_type": "code",
   "execution_count": null,
   "metadata": {},
   "outputs": [],
   "source": [
    "job.job_spec"
   ]
  },
  {
   "cell_type": "markdown",
   "metadata": {},
   "source": [
    "### Submit the custom job to Vertex AI and track the experiment\n",
    "\n",
    "The utility function\n",
    "[`utils.submit_and_track_t5x_vertex_job`](https://github.com/GoogleCloudPlatform/t5x-on-vertex-ai/blob/master/notebooks/utils.py#L253)\n",
    "provides a way to submit the custom job to Vertex AI. The function tracks the\n",
    "experiment and logs the metadata and artifacts generated by the experiment, such\n",
    "as Gin configuration files, dataset location, and model architecture (including\n",
    "the lineage).\n",
    "\n",
    "The job may take > 30 minutes to completion and be patient for it to finish."
   ]
  },
  {
   "cell_type": "code",
   "execution_count": null,
   "metadata": {},
   "outputs": [],
   "source": [
    "utils.submit_and_track_t5x_vertex_job(\n",
    "    custom_job=job,\n",
    "    job_display_name=RUN_ID,\n",
    "    run_name=RUN_ID,\n",
    "    experiment_name=EXPERIMENT_NAME,\n",
    "    execution_name=RUN_ID,\n",
    "    tfds_data_dir=TFDS_DATA_DIR,\n",
    "    model_dir=RUN_DIR,\n",
    "    vertex_ai=vertex_ai,\n",
    "    run_mode=RUN_MODE\n",
    ")"
   ]
  },
  {
   "cell_type": "markdown",
   "metadata": {},
   "source": [
    "### Monitor the job with Vertex AI TensorBoard\n",
    "\n",
    "Vertex AI Training does not support built-in integration with Vertex AI\n",
    "Tensorboard for TPU-based training jobs. However, you can use the\n",
    "`tb-gcp-uploader` command-line utility to manually\n",
    "[upload Vertex AI TensorBoard logs](https://cloud.google.com/vertex-ai/docs/experiments/tensorboard-overview#uploading_logs)\n",
    "to Vertex AI TensorBoard. This step allows you to monitor the training in near\n",
    "real time as Vertex AI TensorBoard streams in Vertex AI TensorBoard logs while\n",
    "they are written to the Cloud Storage bucket.\n",
    "\n",
    "Run the following command from the terminal window to sync logs to Vertex AI\n",
    "TensorBoard."
   ]
  },
  {
   "cell_type": "code",
   "execution_count": null,
   "metadata": {},
   "outputs": [],
   "source": [
    "cmd = f\"\"\"\n",
    "tb-gcp-uploader --tensorboard_resource_name {TENSORBOARD_ID} \\\n",
    "--logdir {EXPERIMENT_RUNS} \\\n",
    "--experiment_name {EXPERIMENT_NAME}\n",
    "\"\"\"\n",
    "\n",
    "print(cmd)"
   ]
  },
  {
   "cell_type": "markdown",
   "metadata": {},
   "source": [
    "To access the TensorBoard instance for the experiment, run the following command\n",
    "to generate and display a URL. Then click or copy the URL to your browser."
   ]
  },
  {
   "cell_type": "code",
   "execution_count": null,
   "metadata": {},
   "outputs": [],
   "source": [
    "TENSORBOARD_URL = f\"https://{REGION}.tensorboard.googleusercontent.com/experiment/{TENSORBOARD_ID.replace('/', '+')}+experiments+{EXPERIMENT_NAME}/\"\n",
    "print(f\"TensorBoard URL for the experiment is located at {TENSORBOARD_URL}\")"
   ]
  },
  {
   "cell_type": "markdown",
   "metadata": {},
   "source": [
    "Alternatively, you can access the Vertex AI TensorBoard experiment from the [console](https://console.cloud.google.com/vertex-ai/experiments/)."
   ]
  },
  {
   "attachments": {
    "0a2e3dc9-cbdb-4f21-be20-d60b69c5cff3.png": {
     "image/png": "[encoded data removed]"
    },
    "be2862b0-0e40-47f5-95f9-e07e451a4d8d.png": {
     "image/png": "[encoded data removed]"
    }
   },
   "cell_type": "markdown",
   "metadata": {},
   "source": [
    "Following is the screenshot from TensorBoard showing metrics such as loss, accuracy, evaluation metric and how they change as training progresses.\n",
    "\n",
    "![image.png](attachment:0a2e3dc9-cbdb-4f21-be20-d60b69c5cff3.png)![image.png](attachment:be2862b0-0e40-47f5-95f9-e07e451a4d8d.png)"
   ]
  },
  {
   "cell_type": "markdown",
   "metadata": {},
   "source": [
    "### Explore and log metrics\n",
    "\n",
    "After the job is completed, you can explore the evaluation metrics in the run\n",
    "directory of the job and log them to the experiment.\n",
    "\n",
    "**Note**: The T5X job might take a long time to run, depending on the task. If\n",
    "the job takes too long, you might\n",
    "[lose your Jupyter kernel or the kernel might become unresponsive](https://cloud.google.com/vertex-ai/docs/general/troubleshooting-workbench#notebook_is_unresponsive_2).\n",
    "If so, you can reimport the libraries and reset the details for the run in order\n",
    "to explore the metrics\n",
    "\n",
    "To explore jobs, get the list of experiment runs and the run directory from\n",
    "Vertex AI Experiments for the experiment."
   ]
  },
  {
   "cell_type": "code",
   "execution_count": null,
   "metadata": {},
   "outputs": [],
   "source": [
    "# Get all experiment runs and run directories\n",
    "utils.get_all_experiment_run_directories(EXPERIMENT_NAME)"
   ]
  },
  {
   "cell_type": "markdown",
   "metadata": {},
   "source": [
    "Select the run ID and run directory for your experiment from the list of runs."
   ]
  },
  {
   "cell_type": "code",
   "execution_count": null,
   "metadata": {},
   "outputs": [],
   "source": [
    "RUN_ID = '<YOUR PREVIOUS RUN ID>' # Select a run id from the list of experiment runs\n",
    "RUN_DIR = '<YOUR RUN DIR>' # Select the run directory for your run from the list of experiment runs"
   ]
  },
  {
   "cell_type": "code",
   "execution_count": null,
   "metadata": {},
   "outputs": [],
   "source": [
    "print(f\"RUN_ID = {RUN_ID}\")\n",
    "print(f\"RUN_DIR = {RUN_DIR}\")"
   ]
  },
  {
   "cell_type": "code",
   "execution_count": null,
   "metadata": {},
   "outputs": [],
   "source": [
    "# Set path to read inference eval metrics\n",
    "GCS_VAL_DIR = os.path.join(RUN_DIR, 'inference_eval/')"
   ]
  },
  {
   "cell_type": "markdown",
   "metadata": {},
   "source": [
    "Call the `utils.parse_and_log_eval_metrics` function to log the fine-tuning job\n",
    "metrics to the experiment from the evaluation metrics that are reported in the\n",
    "logs.\n",
    "\n",
    "The results show a dataframe with the step that achieves the highest mean value \n",
    "of scores for a group of metrics. The columns of the dataframe start with `step` \n",
    "and rest are the group of metrics evaluated. For example, for the \n",
    "English-to-German translation task the metric evaluated is \n",
    "[BLEU score](https://en.wikipedia.org/wiki/BLEU) and shown as `WMT T2T En-De` in \n",
    "the results dataframe."
   ]
  },
  {
   "cell_type": "code",
   "execution_count": null,
   "metadata": {},
   "outputs": [],
   "source": [
    "results = utils.parse_and_log_eval_metrics(\n",
    "    summary_dir=GCS_VAL_DIR,\n",
    "    run_name=RUN_ID,\n",
    "    vertex_ai=vertex_ai\n",
    ")\n",
    "results"
   ]
  },
  {
   "cell_type": "markdown",
   "metadata": {},
   "source": [
    "---"
   ]
  },
  {
   "cell_type": "markdown",
   "metadata": {
    "toc-hr-collapsed": true
   },
   "source": [
    "## <a name=\"task2\"></a>Task 2: Run model evaluation on Vertex AI\n",
    "\n",
    "This section details how to evaluate the fine-tuned T5 base model on the\n",
    "translation task using a Vertex AI custom job. The evaluation job steps are\n",
    "similar to those that you used for the fine-tuning job, but the steps use an\n",
    "evaluation-specific Gin file.\n",
    "\n",
    "If lose your Jupyter kernel or the kernel might become unresponsive, please \n",
    "reimport the libraries and configure experiment settings from the section \n",
    "[Preparation: Imports and initialization](#preparation)."
   ]
  },
  {
   "cell_type": "markdown",
   "metadata": {},
   "source": [
    "### Configure a Gin file for the evaluation job\n",
    "\n",
    "For evaluating the fine-tuned T5 base model for translation task, you configure\n",
    "a Gin file by doing the following:\n",
    "\n",
    "1. Import the\n",
    "    [`eval.gin`](https://github.com/google-research/t5x/tree/main/t5x/configs/runs/eval.gin)\n",
    "    file and the\n",
    "    [Gin file for the model](https://github.com/google-research/t5x/blob/main/t5x/examples/t5/t5_1_1/base.gin)\n",
    "    from T5.\n",
    "1. Override the base configurations such as `MIXTURE_OR_TASK_NAME` that\n",
    "    refer to the pre-configured translation task in the T5X framework.\n",
    "\n",
    "The following listing shows the contents of the evaluation Gin file named\n",
    "[`eval_t511_base_wmt.gin`](http://configs/eval_t511_base_wmt.gin) in the repo:"
   ]
  },
  {
   "cell_type": "code",
   "execution_count": 2,
   "metadata": {},
   "outputs": [
    {
     "name": "stdout",
     "output_type": "stream",
     "text": [
      "\n",
      "from __gin__ import dynamic_registration\n",
      "\n",
      "import __main__ as train_script\n",
      "from t5.data import mixtures\n",
      "from t5x import models\n",
      "from t5x import partitioning\n",
      "from t5x import utils\n",
      "\n",
      "include \"t5x/configs/runs/eval.gin\"\n",
      "include \"t5x/examples/t5/t5_1_1/base.gin\"\n",
      "\n",
      "# Configure the required values by the default eval.gin\n",
      "MIXTURE_OR_TASK_NAME = \"wmt_t2t_ende_v003\"\n",
      "\n",
      "TASK_FEATURE_LENGTHS = {\"inputs\": 256, \"targets\": 256}\n",
      "DROPOUT_RATE = 0.0\n",
      "LOSS_NORMALIZING_FACTOR = 233472\n",
      "BATCH_SIZE = 128\n"
     ]
    }
   ],
   "source": [
    "! cat ../configs/eval_t511_base_wmt.gin"
   ]
  },
  {
   "cell_type": "code",
   "execution_count": null,
   "metadata": {},
   "outputs": [],
   "source": [
    "# Specify the Gin file path(s) for the task\n",
    "GIN_FILES = ['../configs/eval_t511_base_wmt.gin']  # Change to your Gin file path"
   ]
  },
  {
   "cell_type": "markdown",
   "metadata": {},
   "source": [
    "### Configure the Vertex AI custom job\n",
    "\n",
    "Configure the custom job run ID, name, and base output directory for the run. \n",
    "The `RUN_NAME` value can be arbitrary. We recommend setting it to a specific\n",
    "task or topology so that you can identify the run when you're exploring the\n",
    "experiment. For example, use `t5-eval-v2-8`, where `t5` is the model,\n",
    "`eval` is the task, and `v2-8` is the TPU topology."
   ]
  },
  {
   "cell_type": "code",
   "execution_count": null,
   "metadata": {},
   "outputs": [],
   "source": [
    "EVAL_RUN_NAME = f'<YOUR RUN NAME>' # Change to your run name for the custom job\n",
    "EVAL_RUN_ID = f'{EXPERIMENT_NAME}-{EVAL_RUN_NAME}-{datetime.now().strftime(\"%Y%m%d%H%M\")}'\n",
    "EVAL_RUN_DIR = f'{EXPERIMENT_RUNS}/{EVAL_RUN_ID}'"
   ]
  },
  {
   "cell_type": "markdown",
   "metadata": {},
   "source": [
    "Specify the run mode as `eval` to run the T5X launch script in evaluation\n",
    "mode."
   ]
  },
  {
   "cell_type": "code",
   "execution_count": null,
   "metadata": {},
   "outputs": [],
   "source": [
    "RUN_MODE = 'eval'"
   ]
  },
  {
   "cell_type": "markdown",
   "metadata": {},
   "source": [
    "### Configure runtime parameters for evaluation\n",
    "\n",
    "Running an evaluation job requires you to set the location of the model\n",
    "checkpoint (`CHECKPOINT_PATH`) and to set the output path to the evaluation\n",
    "results (`EVAL_OUTPUT_DIR`). You can specify these parameters for the job by\n",
    "configuring `GIN_OVERWRITES`.\n",
    "\n",
    "Configure the path to the fine-tuned model checkpoint. You can get this path\n",
    "from Vertex AI Experiments using the experiment name and run ID. Run the\n",
    "following function to get the list of experiment runs and the run directory\n",
    "where checkpoints are located."
   ]
  },
  {
   "cell_type": "code",
   "execution_count": null,
   "metadata": {},
   "outputs": [],
   "source": [
    "# Get all experiment runs and run directories\n",
    "utils.get_all_experiment_run_directories(EXPERIMENT_NAME)"
   ]
  },
  {
   "cell_type": "markdown",
   "metadata": {},
   "source": [
    "The model checkpoint path is a subfolder under the `RUN_DIR` folder, with the\n",
    "prefix `checkpoint_`. There can be multiple checkpoint folders. Pick the model\n",
    "checkpoint that you want to evaluate the model with, as shown in the following\n",
    "example:\n",
    "\n",
    "``` shell\n",
    "! gsutil ls $RUN_DIR\n",
    "      gs://{BUCKET_NAME}/experiments/{EXPERIMENT_NAME}/runs/{RUN_ID}/checkpoint_1000000/\n",
    "      gs://{BUCKET_NAME}/experiments/{EXPERIMENT_NAME}/runs/{RUN_ID}/checkpoint_1005000/\n",
    "```"
   ]
  },
  {
   "cell_type": "code",
   "execution_count": null,
   "metadata": {},
   "outputs": [],
   "source": [
    "! gsutil ls '<YOUR PREVIOUS RUN DIRECTORY>' # Change to the previous run directory"
   ]
  },
  {
   "cell_type": "code",
   "execution_count": null,
   "metadata": {},
   "outputs": [],
   "source": [
    "CHECKPOINT_PATH = '<YOUR MODEL CHECKPOINT PATH>' # Change to the path where model checkpoint exists"
   ]
  },
  {
   "cell_type": "markdown",
   "metadata": {},
   "source": [
    "Configure runtime parameters for evaluation."
   ]
  },
  {
   "cell_type": "code",
   "execution_count": null,
   "metadata": {},
   "outputs": [],
   "source": [
    "# Specify parameters to be overwritten in Gin files\n",
    "GIN_OVERWRITES = [\n",
    "    'USE_CACHED_TASKS=False',\n",
    "    f'CHECKPOINT_PATH=\"{CHECKPOINT_PATH}\"',\n",
    "    f'EVAL_OUTPUT_DIR=\"{EVAL_RUN_DIR}\"'\n",
    "]"
   ]
  },
  {
   "cell_type": "markdown",
   "metadata": {},
   "source": [
    "To help with troubleshooting, display the values of local variables."
   ]
  },
  {
   "cell_type": "code",
   "execution_count": null,
   "metadata": {},
   "outputs": [],
   "source": [
    "for key in [\n",
    "    \"PROJECT_ID\", \"REGION\", \"BUCKET\", \"TENSORBOARD_NAME\", \"TENSORBOARD_ID\", \n",
    "    \"IMAGE_NAME\", \"IMAGE_URI\", \n",
    "    \"EXPERIMENT_NAME\", \"EXPERIMENT_WORKSPACE\", \"EXPERIMENT_RUNS\", \n",
    "    \"TFDS_DATA_DIR\", \"GIN_FILES\", \"GIN_OVERWRITES\", \n",
    "    \"EVAL_RUN_NAME\", \"EVAL_RUN_ID\", \"EVAL_RUN_DIR\", \"RUN_MODE\",\n",
    "    \"CHECKPOINT_PATH\"]:\n",
    "        print(f\"{key}={eval(key)}\")"
   ]
  },
  {
   "cell_type": "markdown",
   "metadata": {},
   "source": [
    "### Create the Vertex AI custom job\n",
    "\n",
    "Configure the worker pool specification based on TPU availability in the region.\n",
    "See\n",
    "[Vertex AI locations](https://cloud.google.com/vertex-ai/docs/general/locations#accelerators)\n",
    "for details."
   ]
  },
  {
   "cell_type": "code",
   "execution_count": null,
   "metadata": {},
   "outputs": [],
   "source": [
    "# Define worker pool resource specification\n",
    "# Machine to run the custom job on. For TPUs, use `cloud-tpu`.\n",
    "MACHINE_TYPE = 'cloud-tpu'\n",
    "# Accelerator type to attach to the machine. For TPUs, use `TPU_V2`, `TPU_V3`.\n",
    "ACCELERATOR_TYPE = 'TPU_V2'\n",
    "# Number of accelerators to attach to the machine.\n",
    "# For TPUs, specify the number of cores to be provisioned.\n",
    "ACCELERATOR_COUNT = 8"
   ]
  },
  {
   "cell_type": "markdown",
   "metadata": {},
   "source": [
    "Create the custom job spec."
   ]
  },
  {
   "cell_type": "code",
   "execution_count": null,
   "metadata": {},
   "outputs": [],
   "source": [
    "job = utils.create_t5x_custom_job(\n",
    "    display_name=EVAL_RUN_ID,\n",
    "    machine_type=MACHINE_TYPE,\n",
    "    accelerator_type=ACCELERATOR_TYPE,\n",
    "    accelerator_count=ACCELERATOR_COUNT,\n",
    "    image_uri=IMAGE_URI,\n",
    "    run_mode=RUN_MODE,\n",
    "    gin_files=GIN_FILES,\n",
    "    model_dir=CHECKPOINT_PATH,\n",
    "    tfds_data_dir=TFDS_DATA_DIR,\n",
    "    gin_overwrites=GIN_OVERWRITES\n",
    ")"
   ]
  },
  {
   "cell_type": "code",
   "execution_count": null,
   "metadata": {},
   "outputs": [],
   "source": [
    "job.job_spec"
   ]
  },
  {
   "cell_type": "markdown",
   "metadata": {},
   "source": [
    "### Submit the custom job to Vertex AI and track the experiment\n",
    "\n",
    "The `submit_and_track_t5x_vertex_job` function launches the T5X script in\n",
    "evaluation mode with the fine-tuned model checkpoint and writes evaluation\n",
    "metrics. To monitor progress of the job, click the URL in the cell output. The\n",
    "URL goes to the Vertex AI Custom Job console for the job."
   ]
  },
  {
   "cell_type": "code",
   "execution_count": null,
   "metadata": {},
   "outputs": [],
   "source": [
    "utils.submit_and_track_t5x_vertex_job(\n",
    "    custom_job=job,\n",
    "    job_display_name=EVAL_RUN_ID,\n",
    "    run_name=EVAL_RUN_ID,\n",
    "    experiment_name=EXPERIMENT_NAME,\n",
    "    execution_name=EVAL_RUN_ID,\n",
    "    tfds_data_dir=TFDS_DATA_DIR,\n",
    "    model_dir=EVAL_RUN_DIR,\n",
    "    vertex_ai=vertex_ai,\n",
    "    run_mode=RUN_MODE\n",
    ")"
   ]
  },
  {
   "cell_type": "markdown",
   "metadata": {},
   "source": [
    "### Explore and log metrics\n",
    "\n",
    "After the job is completed, you can explore the evaluation metrics. \n",
    "\n",
    "Call the `utils.parse_and_log_eval_metrics` function to parse the events in the\n",
    "run directory and log them to the experiment in Vertex AI Experiments.\n",
    "\n",
    "The results show a dataframe with the step that achieves the highest mean value \n",
    "of scores for a group of metrics. The columns of the dataframe start with `step` \n",
    "and rest are the group of metrics evaluated. For example, for the \n",
    "English-to-German translation task the metric evaluated is \n",
    "[BLEU score](https://en.wikipedia.org/wiki/BLEU) and shown as `WMT T2T En-De` in \n",
    "the results dataframe."
   ]
  },
  {
   "cell_type": "code",
   "execution_count": null,
   "metadata": {},
   "outputs": [],
   "source": [
    "GCS_EVAL_DIR = os.path.join(EVAL_RUN_DIR, 'inference_eval')\n",
    "\n",
    "results = utils.parse_and_log_eval_metrics(\n",
    "    summary_dir=GCS_EVAL_DIR,\n",
    "    run_name=EVAL_RUN_ID,\n",
    "    vertex_ai=vertex_ai\n",
    ")\n",
    "results"
   ]
  },
  {
   "cell_type": "markdown",
   "metadata": {},
   "source": [
    "---"
   ]
  },
  {
   "cell_type": "markdown",
   "metadata": {
    "tags": [],
    "toc-hr-collapsed": true
   },
   "source": [
    "## <a name=\"task3\"></a>Task 3: Run batch inference on Vertex AI\n",
    "\n",
    "This section details how to run a batch inference job with the fine-tuned T5X\n",
    "base model for the translation task on Vertex AI. The inference job steps are\n",
    "similar to those that you used for the evaluation job, but the steps use an\n",
    "inference-specific Gin file.\n",
    "\n",
    "If lose your Jupyter kernel or the kernel might become unresponsive, please \n",
    "reimport the libraries and configure experiment settings from the section \n",
    "[Preparation: Imports and initialization](#preparation)."
   ]
  },
  {
   "cell_type": "markdown",
   "metadata": {},
   "source": [
    "### Configure a Gin file for the batch inference job\n",
    "\n",
    "For running batch inference with the fine-tuned T5 base model for the\n",
    "translation task, you configure a Gin file by doing the following:\n",
    "\n",
    "1. Import the\n",
    "    [`infer.gin`](https://github.com/google-research/t5x/tree/main/t5x/configs/runs/infer.gin)\n",
    "    file and the\n",
    "    [Gin file for the model](https://github.com/google-research/t5x/blob/main/t5x/examples/t5/t5_1_1/base.gin)\n",
    "    from T5.\n",
    "1. Override the base configurations such as the `MIXTURE_OR_TASK_NAME` that\n",
    "    refer to the pre-configured translation task in the T5X framework.\n",
    "\n",
    "The following listing shows the contents of the evaluation Gin file named\n",
    "[`infer_t511_base_wmt.gin`](configs/infer_t511_base_wmt.gin) in the repo:"
   ]
  },
  {
   "cell_type": "code",
   "execution_count": 3,
   "metadata": {},
   "outputs": [
    {
     "name": "stdout",
     "output_type": "stream",
     "text": [
      "\n",
      "from __gin__ import dynamic_registration\n",
      "\n",
      "import __main__ as train_script\n",
      "from t5.data import mixtures\n",
      "from t5x import models\n",
      "from t5x import partitioning\n",
      "from t5x import utils\n",
      "\n",
      "include \"t5x/configs/runs/infer.gin\"\n",
      "include \"t5x/examples/t5/t5_1_1/base.gin\"\n",
      "\n",
      "# Configure the required values by the default eval.gin\n",
      "MIXTURE_OR_TASK_NAME = \"wmt_t2t_ende_v003\"\n",
      "TASK_FEATURE_LENGTHS = {\"inputs\": 256, \"targets\": 256}\n"
     ]
    }
   ],
   "source": [
    "! cat ../configs/infer_t511_base_wmt.gin"
   ]
  },
  {
   "cell_type": "code",
   "execution_count": null,
   "metadata": {},
   "outputs": [],
   "source": [
    "# Specify the Gin file path(s) for the task\n",
    "GIN_FILES = ['../configs/infer_t511_base_wmt.gin']  # Change to your Gin file path"
   ]
  },
  {
   "cell_type": "markdown",
   "metadata": {},
   "source": [
    "### Configure the Vertex AI custom job"
   ]
  },
  {
   "cell_type": "markdown",
   "metadata": {},
   "source": [
    "Configure the custom job run ID, name, and base output directory for the run.\n",
    "The `RUN_NAME` value can be arbitrary. We recommend setting it to a specific\n",
    "task or topology so that you can identify the run when you're exploring the\n",
    "experiment. For example, use `t5-infer-v2-8`, where `t5` is the model,\n",
    "`infer` is the task, and `v2-8` is the TPU topology."
   ]
  },
  {
   "cell_type": "code",
   "execution_count": null,
   "metadata": {},
   "outputs": [],
   "source": [
    "INFER_RUN_NAME = f'<YOUR RUN NAME>' # Change to your run name for the custom job\n",
    "INFER_RUN_ID = f'{EXPERIMENT_NAME}-{INFER_RUN_NAME}-{datetime.now().strftime(\"%Y%m%d%H%M\")}'\n",
    "INFER_RUN_DIR = f'{EXPERIMENT_RUNS}/{INFER_RUN_ID}'"
   ]
  },
  {
   "cell_type": "markdown",
   "metadata": {},
   "source": [
    "Specify the run mode as `infer` to run the T5X launch script in inference\n",
    "mode."
   ]
  },
  {
   "cell_type": "code",
   "execution_count": null,
   "metadata": {},
   "outputs": [],
   "source": [
    "RUN_MODE = 'infer'"
   ]
  },
  {
   "cell_type": "markdown",
   "metadata": {},
   "source": [
    "### Configure runtime parameters for inference"
   ]
  },
  {
   "cell_type": "markdown",
   "metadata": {},
   "source": [
    "Running an inference job requires you to set the location of the model\n",
    "checkpoint (`CHECKPOINT_PATH`) and output path to the inference results\n",
    "(`INFER_OUTPUT_DIR`). You can specify these parameters for the job by\n",
    "configuring `GIN_OVERWRITES`."
   ]
  },
  {
   "cell_type": "markdown",
   "metadata": {},
   "source": [
    "Configure the path to the fine-tuned model checkpoint. You can get this path\n",
    "from Vertex AI Experiments by using the experiment name and run ID. Run the\n",
    "following function to get the list of experiment runs and the run directory\n",
    "where checkpoints are located."
   ]
  },
  {
   "cell_type": "code",
   "execution_count": null,
   "metadata": {},
   "outputs": [],
   "source": [
    "# Get all experiment runs and run directories\n",
    "utils.get_all_experiment_run_directories(EXPERIMENT_NAME)"
   ]
  },
  {
   "cell_type": "markdown",
   "metadata": {},
   "source": [
    "The model checkpoint path is a subfolder under the `RUN_DIR` folder, with the\n",
    "prefix `checkpoint_`. There can be multiple checkpoint folders. Pick the model\n",
    "checkpoint that you want to evaluate the model with, as shown in the following\n",
    "example:\n",
    "``` shell\n",
    "! gsutil ls $RUN_DIR\n",
    "      gs://{BUCKET_NAME}/experiments/{EXPERIMENT_NAME}/runs/{RUN_ID}/checkpoint_1000000/\n",
    "      gs://{BUCKET_NAME}/experiments/{EXPERIMENT_NAME}/runs/{RUN_ID}/checkpoint_1005000/\n",
    "```"
   ]
  },
  {
   "cell_type": "code",
   "execution_count": null,
   "metadata": {},
   "outputs": [],
   "source": [
    "! gsutil ls '<YOUR PREVIOUS RUN DIRECTORY>' # Change to the previous run directory"
   ]
  },
  {
   "cell_type": "code",
   "execution_count": null,
   "metadata": {},
   "outputs": [],
   "source": [
    "CHECKPOINT_PATH = '<YOUR MODEL CHECKPOINT PATH>' # Change to the path where model checkpoint exists"
   ]
  },
  {
   "cell_type": "markdown",
   "metadata": {},
   "source": [
    "Configure runtime parameters for the inference."
   ]
  },
  {
   "cell_type": "code",
   "execution_count": null,
   "metadata": {},
   "outputs": [],
   "source": [
    "# Specify parameters to be overwritten in Gin files\n",
    "GIN_OVERWRITES = [\n",
    "    'USE_CACHED_TASKS=False',\n",
    "    f'CHECKPOINT_PATH=\"{CHECKPOINT_PATH}\"',\n",
    "    f'INFER_OUTPUT_DIR=\"{INFER_RUN_DIR}\"'\n",
    "]"
   ]
  },
  {
   "cell_type": "markdown",
   "metadata": {},
   "source": [
    "To help with troubleshooting, display the values of local variables."
   ]
  },
  {
   "cell_type": "code",
   "execution_count": null,
   "metadata": {},
   "outputs": [],
   "source": [
    "for key in [\n",
    "    \"PROJECT_ID\", \"REGION\", \"BUCKET\", \"TENSORBOARD_NAME\", \"TENSORBOARD_ID\", \n",
    "    \"IMAGE_NAME\", \"IMAGE_URI\", \n",
    "    \"EXPERIMENT_NAME\", \"EXPERIMENT_WORKSPACE\", \"EXPERIMENT_RUNS\", \n",
    "    \"TFDS_DATA_DIR\", \"GIN_FILES\", \"GIN_OVERWRITES\", \n",
    "    \"INFER_RUN_NAME\", \"INFER_RUN_ID\", \"INFER_RUN_DIR\", \"RUN_MODE\",\n",
    "    \"CHECKPOINT_PATH\"\n",
    "]:\n",
    "    print(f\"{key}={eval(key)}\")"
   ]
  },
  {
   "cell_type": "markdown",
   "metadata": {},
   "source": [
    "### Create the Vertex AI custom job"
   ]
  },
  {
   "cell_type": "markdown",
   "metadata": {},
   "source": [
    "Configure the worker pool specification based on TPU availability in the region.\n",
    "See\n",
    "[Vertex AI locations](https://cloud.google.com/vertex-ai/docs/general/locations#accelerators)\n",
    "for details."
   ]
  },
  {
   "cell_type": "code",
   "execution_count": null,
   "metadata": {},
   "outputs": [],
   "source": [
    "# Define worker pool resource specification\n",
    "# Machine to run the custom job on. For TPUs, use `cloud-tpu`.\n",
    "MACHINE_TYPE = 'cloud-tpu'\n",
    "# Accelerator type to attach to the machine. For TPUs, use `TPU_V2`, `TPU_V3`.\n",
    "ACCELERATOR_TYPE = 'TPU_V2'\n",
    "# Number of accelerators to attach to the machine.\n",
    "# For TPUs, specify the number of cores to be provisioned.\n",
    "ACCELERATOR_COUNT = 8"
   ]
  },
  {
   "cell_type": "markdown",
   "metadata": {},
   "source": [
    "Create the custom job spec."
   ]
  },
  {
   "cell_type": "code",
   "execution_count": null,
   "metadata": {},
   "outputs": [],
   "source": [
    "job = utils.create_t5x_custom_job(\n",
    "    display_name=INFER_RUN_ID,\n",
    "    machine_type=MACHINE_TYPE,\n",
    "    accelerator_type=ACCELERATOR_TYPE,\n",
    "    accelerator_count=ACCELERATOR_COUNT,\n",
    "    image_uri=IMAGE_URI,\n",
    "    run_mode=RUN_MODE,\n",
    "    gin_files=GIN_FILES,\n",
    "    model_dir=CHECKPOINT_PATH,\n",
    "    tfds_data_dir=TFDS_DATA_DIR,\n",
    "    gin_overwrites=GIN_OVERWRITES\n",
    ")"
   ]
  },
  {
   "cell_type": "code",
   "execution_count": null,
   "metadata": {},
   "outputs": [],
   "source": [
    "job.job_spec"
   ]
  },
  {
   "cell_type": "markdown",
   "metadata": {},
   "source": [
    "### Submit the custom job to Vertex AI and track the experiment\n",
    "\n",
    "The `submit_and_track_tx5_vertex_job` function launches the T5X script in\n",
    "inference mode with the fine-tuned model checkpoint specification. The function\n",
    "submits the job to Vertex AI, which generates inferences results and writes them\n",
    "to the Cloud Storage bucket. To monitor progress of the job, click the URL in\n",
    "the cell output. The URL goes to the Vertex AI Custom Job console for the job."
   ]
  },
  {
   "cell_type": "code",
   "execution_count": null,
   "metadata": {},
   "outputs": [],
   "source": [
    "utils.submit_and_track_t5x_vertex_job(\n",
    "    custom_job=job,\n",
    "    job_display_name=INFER_RUN_ID,\n",
    "    run_name=INFER_RUN_ID,\n",
    "    experiment_name=EXPERIMENT_NAME,\n",
    "    execution_name=INFER_RUN_ID,\n",
    "    tfds_data_dir=TFDS_DATA_DIR,\n",
    "    model_dir=INFER_RUN_DIR,\n",
    "    vertex_ai=vertex_ai,\n",
    "    run_mode=RUN_MODE\n",
    ")"
   ]
  },
  {
   "cell_type": "markdown",
   "metadata": {},
   "source": [
    "### Explore batch inference results\n",
    "\n",
    "The batch inference job writes inference results to the run directory that you\n",
    "configured. The output is written in JSON lines (`.jsonl`) format."
   ]
  },
  {
   "cell_type": "code",
   "execution_count": null,
   "metadata": {},
   "outputs": [],
   "source": [
    "! gsutil ls $INFER_RUN_DIR"
   ]
  },
  {
   "cell_type": "markdown",
   "metadata": {},
   "source": [
    "The following example is a snippet from the output of the batch inference job\n",
    "for the translation task from a fine-tuned\n",
    "[WMT English-to-German translation](https://www.tensorflow.org/datasets/catalog/wmt_t2t_translate)\n",
    "model.\n",
    "\n",
    "``` json\n",
    "{\n",
    "\t\"inputs\": {\n",
    "\t\t\"inputs_pretokenized\": \"translate English to German: As recently as last Tuesday, the Nasdaq indices were not calculated for one hour due to data transfer errors.\",\n",
    "\t\t\"targets_pretokenized\": \"Erst am Dienstag waren die Indizes der Nasdaq wegen Fehlern im Datentransport eine Stunde lang nicht berechnet worden.\"\n",
    "\t},\n",
    "\t\"prediction\": \"Erst am vergangenen Dienstag wurden die Nasdaq-Indexe wegen Daten\\u00fcbertragungen f\\u00fcr eine Stunde nicht berechnet.\"\n",
    "}\n",
    "```"
   ]
  },
  {
   "cell_type": "markdown",
   "metadata": {},
   "source": [
    "---"
   ]
  },
  {
   "cell_type": "markdown",
   "metadata": {},
   "source": [
    "## What's next?\n",
    "\n",
    "This notebook template covers how to run a T5X job for fine-tuning, evaluation,\n",
    "and inference tasks on Vertex AI.\n",
    "\n",
    "You can copy this notebook template for a specific task or dataset or\n",
    "configuration and then make changes as needed to run the T5X job on Vertex AI.\n",
    "Refer to other notebooks in the\n",
    "[notebooks directory](/) of this repo as\n",
    "inspiration."
   ]
  }
 ],
 "metadata": {
  "environment": {
   "kernel": "python3",
   "name": "common-cu110.m93",
   "type": "gcloud",
   "uri": "gcr.io/deeplearning-platform-release/base-cu110:m93"
  },
  "kernelspec": {
   "display_name": "Python 3",
   "language": "python",
   "name": "python3"
  },
  "language_info": {
   "codemirror_mode": {
    "name": "ipython",
    "version": 3
   },
   "file_extension": ".py",
   "mimetype": "text/x-python",
   "name": "python",
   "nbconvert_exporter": "python",
   "pygments_lexer": "ipython3",
   "version": "3.7.12"
  },
  "vscode": {
   "interpreter": {
    "hash": "802ea0518c7535cb908ec450b955e980eb8525a80af866d337675ca6fae56b98"
   }
  }
 },
 "nbformat": 4,
 "nbformat_minor": 4
}
